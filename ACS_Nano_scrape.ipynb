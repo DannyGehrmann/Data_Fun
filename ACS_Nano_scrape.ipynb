{
 "cells": [
  {
   "cell_type": "markdown",
   "metadata": {},
   "source": [
    "## Import Section"
   ]
  },
  {
   "cell_type": "code",
   "execution_count": 153,
   "metadata": {},
   "outputs": [],
   "source": [
    "import requests\n",
    "from bs4 import BeautifulSoup\n",
    "import csv\n",
    "import numpy as np\n",
    "import pandas as pd"
   ]
  },
  {
   "cell_type": "markdown",
   "metadata": {},
   "source": [
    "## Defining Scraping Function for ACS Nano:\n",
    "2 steps:\n",
    "\n",
    "1. extracting links to \"abstract\" page for each article of the corresponding ACS Nano issue\n",
    "2. extracting title, authors, abstract, keywords, publication date and reference link from each article page"
   ]
  },
  {
   "cell_type": "code",
   "execution_count": 154,
   "metadata": {},
   "outputs": [],
   "source": [
    "def ACS_NANO_scrape(journal_volume_counter, journal_number_counter):\n",
    "    url_iterable = 'http://pubs.acs.org/toc/ancac3/'+str(journal_volume_counter)+'/'+str(journal_number_counter)\n",
    "    r = requests.get(url_iterable)\n",
    "    soup = BeautifulSoup(r.content, \"html5lib\")\n",
    "    links = soup.find_all('a')\n",
    "    link_list = []\n",
    "    article_list = []\n",
    "    for link in links:\n",
    "        if 'Abstract' == link.text:\n",
    "            #go to the specific article abstract page for pulling data\n",
    "            full_link = \"http://pubs.acs.org%s\" %(link.get('href'))\n",
    "            re = requests.get(full_link)\n",
    "            sub_soup = BeautifulSoup(re.content, \"html5lib\")\n",
    "            keywords_all = sub_soup.find(\"div\", {'class': 'keywords'})\n",
    "            if keywords_all != None:\n",
    "                keywords = keywords_all.text.replace('Keywords: ', '')\n",
    "                #pull the article title\n",
    "                title = sub_soup.find(\"span\", {'class': 'hlFld-Title'})\n",
    "                #pull the article abstract\n",
    "                abstract = sub_soup.find('p', {'class': 'articleBody_abstractText'})\n",
    "                #create publication date from volume and number\n",
    "                pub_date = str(journal_volume_counter+2006)+'-'+str(journal_number_counter)\n",
    "                #pull author list into a single string\n",
    "                authors = sub_soup.find_all(\"a\", {'id': 'authors'})\n",
    "                authors_str = ''\n",
    "                for author in authors:\n",
    "                    authors_str = authors_str + ', ' + author.text\n",
    "                authors_str = authors_str[2:]\n",
    "                #put all data together into list of list for handing over to pandas\n",
    "                article_list.append([title.text, authors_str, abstract.text, keywords, pub_date, full_link])\n",
    "    return article_list"
   ]
  },
  {
   "cell_type": "markdown",
   "metadata": {},
   "source": [
    "# Scraping the desired journal information\n",
    "\n",
    "ACS Nano is published on a monthly basis and counts in volume (publication year) and numbers (publication month). The loops iterate over desired ranges, put the meta-data into a Pandas DataFrame object with column names.\n",
    "Further each issue of ACS Nano is be exported into a single .csv file"
   ]
  },
  {
   "cell_type": "code",
   "execution_count": 208,
   "metadata": {},
   "outputs": [],
   "source": [
    "#initial empty DataFrame structure\n",
    "master_df = pd.DataFrame()\n",
    "\n",
    "for volume in range (8,9):\n",
    "    for number in range (1,13):\n",
    "        article_data = pd.DataFrame(ACS_NANO_scrape(volume,number), columns=['Title', 'Authors', 'Abstract', 'Keywords', 'PubDate', 'JournalLink'])\n",
    "        master_df = master_df.append(article_data, ignore_index = True)\n",
    "        exportname = 'ACS_Nano_Vol'+str(volume)+'_Num'+str(number)+'.csv'\n",
    "        article_data.to_csv(exportname, index=False)\n"
   ]
  },
  {
   "cell_type": "code",
   "execution_count": null,
   "metadata": {},
   "outputs": [],
   "source": []
  }
 ],
 "metadata": {
  "kernelspec": {
   "display_name": "Python 3",
   "language": "python",
   "name": "python3"
  },
  "language_info": {
   "codemirror_mode": {
    "name": "ipython",
    "version": 3
   },
   "file_extension": ".py",
   "mimetype": "text/x-python",
   "name": "python",
   "nbconvert_exporter": "python",
   "pygments_lexer": "ipython3",
   "version": "3.6.2"
  }
 },
 "nbformat": 4,
 "nbformat_minor": 2
}
